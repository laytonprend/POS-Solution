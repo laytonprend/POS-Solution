{
 "cells": [
  {
   "cell_type": "code",
   "execution_count": 6,
   "id": "9e64e338",
   "metadata": {},
   "outputs": [
    {
     "ename": "ModuleNotFoundError",
     "evalue": "No module named 'github'",
     "output_type": "error",
     "traceback": [
      "\u001b[1;31m---------------------------------------------------------------------------\u001b[0m",
      "\u001b[1;31mModuleNotFoundError\u001b[0m                       Traceback (most recent call last)",
      "Cell \u001b[1;32mIn[6], line 2\u001b[0m\n\u001b[0;32m      1\u001b[0m \u001b[38;5;28;01mimport\u001b[39;00m \u001b[38;5;21;01mos\u001b[39;00m\n\u001b[1;32m----> 2\u001b[0m \u001b[38;5;28;01mfrom\u001b[39;00m \u001b[38;5;21;01mgithub\u001b[39;00m \u001b[38;5;28;01mimport\u001b[39;00m Github\n\u001b[0;32m      4\u001b[0m \u001b[38;5;28;01mdef\u001b[39;00m \u001b[38;5;21mupload_data\u001b[39m(df, file_path):\n\u001b[0;32m      5\u001b[0m     owner \u001b[38;5;241m=\u001b[39m \u001b[38;5;124m'\u001b[39m\u001b[38;5;124mlaytonprend\u001b[39m\u001b[38;5;124m'\u001b[39m\n",
      "\u001b[1;31mModuleNotFoundError\u001b[0m: No module named 'github'"
     ]
    }
   ],
   "source": [
    "import os\n",
    "from github import Github\n",
    "\n",
    "def upload_data(df, file_path):\n",
    "    owner = 'laytonprend'\n",
    "    access_token = os.getenv('GITHUB_PAT')\n",
    "    branch_name = 'main'  # Replace with your desired branch name\n",
    "    repo = 'POS-Solution'\n",
    "    repo_name = f'{owner}/{repo}'\n",
    "    \n",
    "    # Initialize PyGithub with your access token\n",
    "    g = Github(access_token)\n",
    "    \n",
    "    # Get the repository\n",
    "    repo = g.get_repo(repo_name)\n",
    "    \n",
    "    # Convert DataFrame to CSV string\n",
    "    df_content = df.to_csv(index=False)\n",
    "    \n",
    "    # Fetch existing file if it exists\n",
    "    try:\n",
    "        existing_file = repo.get_contents(file_path, ref=branch_name)\n",
    "        existing_sha = existing_file.sha\n",
    "    except Exception as e:\n",
    "        existing_sha = None\n",
    "        print(f\"File {file_path} does not exist yet in branch {branch_name}. Creating new file...\")\n",
    "    \n",
    "    # Commit message\n",
    "    commit_message = f\"Updating {file_path} data\"\n",
    "    \n",
    "    # Update or create the file\n",
    "    try:\n",
    "        if existing_sha:\n",
    "            repo.update_file(file_path, commit_message, df_content, sha=existing_sha, branch=branch_name)\n",
    "            print(f'File \"{file_path}\" updated in the repository')\n",
    "        else:\n",
    "            repo.create_file(file_path, commit_message, df_content, branch=branch_name)\n",
    "            print(f'File \"{file_path}\" created in the repository')\n",
    "    except Exception as e:\n",
    "        print(f\"An error occurred: {e}\")\n",
    "\n",
    "# Example usage\n",
    "# df is your DataFrame containing data to upload\n",
    "# file_path is the path to the file in your repository, e.g., 'data/transactions.csv'\n",
    "# upload_data(df, 'data/transactions.csv')\n",
    "\n"
   ]
  },
  {
   "cell_type": "code",
   "execution_count": 2,
   "id": "89aa4712",
   "metadata": {},
   "outputs": [
    {
     "name": "stdout",
     "output_type": "stream",
     "text": [
      "Defaulting to user installation because normal site-packages is not writeableNote: you may need to restart the kernel to use updated packages.\n"
     ]
    },
    {
     "name": "stderr",
     "output_type": "stream",
     "text": [
      "  error: subprocess-exited-with-error\n",
      "  \n",
      "  Building wheel for aiohttp (pyproject.toml) did not run successfully.\n",
      "  exit code: 1\n",
      "  \n",
      "  [100 lines of output]\n",
      "  *********************\n",
      "  * Accelerated build *\n",
      "  *********************\n",
      "  running bdist_wheel\n",
      "  running build\n",
      "  running build_py\n",
      "  creating build\n",
      "  creating build\\lib.win-amd64-cpython-311\n",
      "  creating build\\lib.win-amd64-cpython-311\\aiohttp\n",
      "  copying aiohttp\\abc.py -> build\\lib.win-amd64-cpython-311\\aiohttp\n",
      "  copying aiohttp\\base_protocol.py -> build\\lib.win-amd64-cpython-311\\aiohttp\n",
      "  copying aiohttp\\client.py -> build\\lib.win-amd64-cpython-311\\aiohttp\n",
      "  copying aiohttp\\client_exceptions.py -> build\\lib.win-amd64-cpython-311\\aiohttp\n",
      "  copying aiohttp\\client_proto.py -> build\\lib.win-amd64-cpython-311\\aiohttp\n",
      "  copying aiohttp\\client_reqrep.py -> build\\lib.win-amd64-cpython-311\\aiohttp\n",
      "  copying aiohttp\\client_ws.py -> build\\lib.win-amd64-cpython-311\\aiohttp\n",
      "  copying aiohttp\\connector.py -> build\\lib.win-amd64-cpython-311\\aiohttp\n",
      "  copying aiohttp\\cookiejar.py -> build\\lib.win-amd64-cpython-311\\aiohttp\n",
      "  copying aiohttp\\formdata.py -> build\\lib.win-amd64-cpython-311\\aiohttp\n",
      "  copying aiohttp\\hdrs.py -> build\\lib.win-amd64-cpython-311\\aiohttp\n",
      "  copying aiohttp\\helpers.py -> build\\lib.win-amd64-cpython-311\\aiohttp\n",
      "  copying aiohttp\\http.py -> build\\lib.win-amd64-cpython-311\\aiohttp\n",
      "  copying aiohttp\\http_exceptions.py -> build\\lib.win-amd64-cpython-311\\aiohttp\n",
      "  copying aiohttp\\http_parser.py -> build\\lib.win-amd64-cpython-311\\aiohttp\n",
      "  copying aiohttp\\http_websocket.py -> build\\lib.win-amd64-cpython-311\\aiohttp\n",
      "  copying aiohttp\\http_writer.py -> build\\lib.win-amd64-cpython-311\\aiohttp\n",
      "  copying aiohttp\\locks.py -> build\\lib.win-amd64-cpython-311\\aiohttp\n",
      "  copying aiohttp\\log.py -> build\\lib.win-amd64-cpython-311\\aiohttp\n",
      "  copying aiohttp\\multipart.py -> build\\lib.win-amd64-cpython-311\\aiohttp\n",
      "  copying aiohttp\\payload.py -> build\\lib.win-amd64-cpython-311\\aiohttp\n",
      "  copying aiohttp\\payload_streamer.py -> build\\lib.win-amd64-cpython-311\\aiohttp\n",
      "  copying aiohttp\\pytest_plugin.py -> build\\lib.win-amd64-cpython-311\\aiohttp\n",
      "  copying aiohttp\\resolver.py -> build\\lib.win-amd64-cpython-311\\aiohttp\n",
      "  copying aiohttp\\streams.py -> build\\lib.win-amd64-cpython-311\\aiohttp\n",
      "  copying aiohttp\\tcp_helpers.py -> build\\lib.win-amd64-cpython-311\\aiohttp\n",
      "  copying aiohttp\\test_utils.py -> build\\lib.win-amd64-cpython-311\\aiohttp\n",
      "  copying aiohttp\\tracing.py -> build\\lib.win-amd64-cpython-311\\aiohttp\n",
      "  copying aiohttp\\typedefs.py -> build\\lib.win-amd64-cpython-311\\aiohttp\n",
      "  copying aiohttp\\web.py -> build\\lib.win-amd64-cpython-311\\aiohttp\n",
      "  copying aiohttp\\web_app.py -> build\\lib.win-amd64-cpython-311\\aiohttp\n",
      "  copying aiohttp\\web_exceptions.py -> build\\lib.win-amd64-cpython-311\\aiohttp\n",
      "  copying aiohttp\\web_fileresponse.py -> build\\lib.win-amd64-cpython-311\\aiohttp\n",
      "  copying aiohttp\\web_log.py -> build\\lib.win-amd64-cpython-311\\aiohttp\n",
      "  copying aiohttp\\web_middlewares.py -> build\\lib.win-amd64-cpython-311\\aiohttp\n",
      "  copying aiohttp\\web_protocol.py -> build\\lib.win-amd64-cpython-311\\aiohttp\n",
      "  copying aiohttp\\web_request.py -> build\\lib.win-amd64-cpython-311\\aiohttp\n",
      "  copying aiohttp\\web_response.py -> build\\lib.win-amd64-cpython-311\\aiohttp\n",
      "  copying aiohttp\\web_routedef.py -> build\\lib.win-amd64-cpython-311\\aiohttp\n",
      "  copying aiohttp\\web_runner.py -> build\\lib.win-amd64-cpython-311\\aiohttp\n",
      "  copying aiohttp\\web_server.py -> build\\lib.win-amd64-cpython-311\\aiohttp\n",
      "  copying aiohttp\\web_urldispatcher.py -> build\\lib.win-amd64-cpython-311\\aiohttp\n",
      "  copying aiohttp\\web_ws.py -> build\\lib.win-amd64-cpython-311\\aiohttp\n",
      "  copying aiohttp\\worker.py -> build\\lib.win-amd64-cpython-311\\aiohttp\n",
      "  copying aiohttp\\__init__.py -> build\\lib.win-amd64-cpython-311\\aiohttp\n",
      "  running egg_info\n",
      "  writing aiohttp.egg-info\\PKG-INFO\n",
      "  writing dependency_links to aiohttp.egg-info\\dependency_links.txt\n",
      "  writing requirements to aiohttp.egg-info\\requires.txt\n",
      "  writing top-level names to aiohttp.egg-info\\top_level.txt\n",
      "  reading manifest file 'aiohttp.egg-info\\SOURCES.txt'\n",
      "  reading manifest template 'MANIFEST.in'\n",
      "  warning: no files found matching 'aiohttp' anywhere in distribution\n",
      "  warning: no previously-included files matching '*.pyc' found anywhere in distribution\n",
      "  warning: no previously-included files matching '*.pyd' found anywhere in distribution\n",
      "  warning: no previously-included files matching '*.so' found anywhere in distribution\n",
      "  warning: no previously-included files matching '*.lib' found anywhere in distribution\n",
      "  warning: no previously-included files matching '*.dll' found anywhere in distribution\n",
      "  warning: no previously-included files matching '*.a' found anywhere in distribution\n",
      "  warning: no previously-included files matching '*.obj' found anywhere in distribution\n",
      "  warning: no previously-included files found matching 'aiohttp\\*.html'\n",
      "  no previously-included directories found matching 'docs\\_build'\n",
      "  adding license file 'LICENSE.txt'\n",
      "  writing manifest file 'aiohttp.egg-info\\SOURCES.txt'\n",
      "  copying aiohttp\\_cparser.pxd -> build\\lib.win-amd64-cpython-311\\aiohttp\n",
      "  copying aiohttp\\_find_header.c -> build\\lib.win-amd64-cpython-311\\aiohttp\n",
      "  copying aiohttp\\_find_header.h -> build\\lib.win-amd64-cpython-311\\aiohttp\n",
      "  copying aiohttp\\_find_header.pxd -> build\\lib.win-amd64-cpython-311\\aiohttp\n",
      "  copying aiohttp\\_headers.pxi -> build\\lib.win-amd64-cpython-311\\aiohttp\n",
      "  copying aiohttp\\_helpers.c -> build\\lib.win-amd64-cpython-311\\aiohttp\n",
      "  copying aiohttp\\_helpers.pyi -> build\\lib.win-amd64-cpython-311\\aiohttp\n",
      "  copying aiohttp\\_helpers.pyx -> build\\lib.win-amd64-cpython-311\\aiohttp\n",
      "  copying aiohttp\\_http_parser.c -> build\\lib.win-amd64-cpython-311\\aiohttp\n",
      "  copying aiohttp\\_http_parser.pyx -> build\\lib.win-amd64-cpython-311\\aiohttp\n",
      "  copying aiohttp\\_http_writer.c -> build\\lib.win-amd64-cpython-311\\aiohttp\n",
      "  copying aiohttp\\_http_writer.pyx -> build\\lib.win-amd64-cpython-311\\aiohttp\n",
      "  copying aiohttp\\_websocket.c -> build\\lib.win-amd64-cpython-311\\aiohttp\n",
      "  copying aiohttp\\_websocket.pyx -> build\\lib.win-amd64-cpython-311\\aiohttp\n",
      "  copying aiohttp\\py.typed -> build\\lib.win-amd64-cpython-311\\aiohttp\n",
      "  creating build\\lib.win-amd64-cpython-311\\aiohttp\\.hash\n",
      "  copying aiohttp\\.hash\\_cparser.pxd.hash -> build\\lib.win-amd64-cpython-311\\aiohttp\\.hash\n",
      "  copying aiohttp\\.hash\\_find_header.pxd.hash -> build\\lib.win-amd64-cpython-311\\aiohttp\\.hash\n",
      "  copying aiohttp\\.hash\\_helpers.pyi.hash -> build\\lib.win-amd64-cpython-311\\aiohttp\\.hash\n",
      "  copying aiohttp\\.hash\\_helpers.pyx.hash -> build\\lib.win-amd64-cpython-311\\aiohttp\\.hash\n",
      "  copying aiohttp\\.hash\\_http_parser.pyx.hash -> build\\lib.win-amd64-cpython-311\\aiohttp\\.hash\n",
      "  copying aiohttp\\.hash\\_http_writer.pyx.hash -> build\\lib.win-amd64-cpython-311\\aiohttp\\.hash\n",
      "  copying aiohttp\\.hash\\_websocket.pyx.hash -> build\\lib.win-amd64-cpython-311\\aiohttp\\.hash\n",
      "  copying aiohttp\\.hash\\hdrs.py.hash -> build\\lib.win-amd64-cpython-311\\aiohttp\\.hash\n",
      "  running build_ext\n",
      "  building 'aiohttp._websocket' extension\n",
      "  error: Microsoft Visual C++ 14.0 or greater is required. Get it with \"Microsoft C++ Build Tools\": https://visualstudio.microsoft.com/visual-cpp-build-tools/\n",
      "  [end of output]\n",
      "  \n",
      "  note: This error originates from a subprocess, and is likely not a problem with pip.\n",
      "  ERROR: Failed building wheel for aiohttp\n",
      "ERROR: Could not build wheels for aiohttp, which is required to install pyproject.toml-based projects\n"
     ]
    },
    {
     "name": "stdout",
     "output_type": "stream",
     "text": [
      "\n",
      "Collecting github\n",
      "  Obtaining dependency information for github from https://files.pythonhosted.org/packages/b3/40/95bd12e103a6875d27acde1335b84d61faa90ac5632eed550209f794841b/github-1.2.7-py3-none-any.whl.metadata\n",
      "  Downloading github-1.2.7-py3-none-any.whl.metadata (1.7 kB)\n",
      "Collecting aiohttp==3.8.1 (from github)\n",
      "  Using cached aiohttp-3.8.1.tar.gz (7.3 MB)\n",
      "  Installing build dependencies: started\n",
      "  Installing build dependencies: finished with status 'done'\n",
      "  Getting requirements to build wheel: started\n",
      "  Getting requirements to build wheel: finished with status 'done'\n",
      "  Preparing metadata (pyproject.toml): started\n",
      "  Preparing metadata (pyproject.toml): finished with status 'done'\n",
      "Requirement already satisfied: typing-extensions in c:\\programdata\\anaconda3\\lib\\site-packages (from github) (4.7.1)\n",
      "Requirement already satisfied: attrs>=17.3.0 in c:\\programdata\\anaconda3\\lib\\site-packages (from aiohttp==3.8.1->github) (22.1.0)\n",
      "Requirement already satisfied: charset-normalizer<3.0,>=2.0 in c:\\programdata\\anaconda3\\lib\\site-packages (from aiohttp==3.8.1->github) (2.0.4)\n",
      "Requirement already satisfied: multidict<7.0,>=4.5 in c:\\programdata\\anaconda3\\lib\\site-packages (from aiohttp==3.8.1->github) (6.0.2)\n",
      "Requirement already satisfied: async-timeout<5.0,>=4.0.0a3 in c:\\programdata\\anaconda3\\lib\\site-packages (from aiohttp==3.8.1->github) (4.0.2)\n",
      "Requirement already satisfied: yarl<2.0,>=1.0 in c:\\programdata\\anaconda3\\lib\\site-packages (from aiohttp==3.8.1->github) (1.8.1)\n",
      "Requirement already satisfied: frozenlist>=1.1.1 in c:\\programdata\\anaconda3\\lib\\site-packages (from aiohttp==3.8.1->github) (1.3.3)\n",
      "Requirement already satisfied: aiosignal>=1.1.2 in c:\\programdata\\anaconda3\\lib\\site-packages (from aiohttp==3.8.1->github) (1.2.0)\n",
      "Requirement already satisfied: idna>=2.0 in c:\\programdata\\anaconda3\\lib\\site-packages (from yarl<2.0,>=1.0->aiohttp==3.8.1->github) (3.4)\n",
      "Using cached github-1.2.7-py3-none-any.whl (15 kB)\n",
      "Building wheels for collected packages: aiohttp\n",
      "  Building wheel for aiohttp (pyproject.toml): started\n",
      "  Building wheel for aiohttp (pyproject.toml): finished with status 'error'\n",
      "Failed to build aiohttp\n"
     ]
    }
   ],
   "source": [
    "pip install github"
   ]
  },
  {
   "cell_type": "code",
   "execution_count": 3,
   "id": "46b1be9f",
   "metadata": {},
   "outputs": [
    {
     "name": "stdout",
     "output_type": "stream",
     "text": [
      "None\n"
     ]
    }
   ],
   "source": [
    "import os\n",
    "\n",
    "\n",
    "pat = os.environ.get(\"GITHUB_PAT\")\n",
    "print(pat)"
   ]
  },
  {
   "cell_type": "code",
   "execution_count": 4,
   "id": "b656beed",
   "metadata": {},
   "outputs": [
    {
     "ename": "ValueError",
     "evalue": "GITHUB_PAT environment variable not found",
     "output_type": "error",
     "traceback": [
      "\u001b[1;31m---------------------------------------------------------------------------\u001b[0m",
      "\u001b[1;31mValueError\u001b[0m                                Traceback (most recent call last)",
      "Cell \u001b[1;32mIn[4], line 5\u001b[0m\n\u001b[0;32m      3\u001b[0m pat \u001b[38;5;241m=\u001b[39m os\u001b[38;5;241m.\u001b[39menviron\u001b[38;5;241m.\u001b[39mget(\u001b[38;5;124m\"\u001b[39m\u001b[38;5;124mGITHUB_PAT\u001b[39m\u001b[38;5;124m\"\u001b[39m)\n\u001b[0;32m      4\u001b[0m \u001b[38;5;28;01mif\u001b[39;00m \u001b[38;5;129;01mnot\u001b[39;00m pat:\n\u001b[1;32m----> 5\u001b[0m     \u001b[38;5;28;01mraise\u001b[39;00m \u001b[38;5;167;01mValueError\u001b[39;00m(\u001b[38;5;124m\"\u001b[39m\u001b[38;5;124mGITHUB_PAT environment variable not found\u001b[39m\u001b[38;5;124m\"\u001b[39m)\n\u001b[0;32m      6\u001b[0m \u001b[38;5;28mprint\u001b[39m(\u001b[38;5;124mf\u001b[39m\u001b[38;5;124m\"\u001b[39m\u001b[38;5;124mUsing GitHub PAT (first few characters): \u001b[39m\u001b[38;5;132;01m{\u001b[39;00mpat[:\u001b[38;5;241m5\u001b[39m]\u001b[38;5;132;01m}\u001b[39;00m\u001b[38;5;124m...\u001b[39m\u001b[38;5;124m\"\u001b[39m)\n",
      "\u001b[1;31mValueError\u001b[0m: GITHUB_PAT environment variable not found"
     ]
    }
   ],
   "source": [
    "import os\n",
    "\n",
    "pat = os.environ.get(\"GITHUB_PAT\")\n",
    "if not pat:\n",
    "    raise ValueError(\"GITHUB_PAT environment variable not found\")\n",
    "print(f\"Using GitHub PAT (first few characters): {pat[:5]}...\")"
   ]
  },
  {
   "cell_type": "code",
   "execution_count": null,
   "id": "0daf7320",
   "metadata": {},
   "outputs": [],
   "source": []
  }
 ],
 "metadata": {
  "kernelspec": {
   "display_name": "Python 3 (ipykernel)",
   "language": "python",
   "name": "python3"
  },
  "language_info": {
   "codemirror_mode": {
    "name": "ipython",
    "version": 3
   },
   "file_extension": ".py",
   "mimetype": "text/x-python",
   "name": "python",
   "nbconvert_exporter": "python",
   "pygments_lexer": "ipython3",
   "version": "3.11.5"
  }
 },
 "nbformat": 4,
 "nbformat_minor": 5
}
